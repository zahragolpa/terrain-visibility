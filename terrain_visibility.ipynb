{
  "nbformat": 4,
  "nbformat_minor": 0,
  "metadata": {
    "colab": {
      "provenance": [],
      "include_colab_link": true
    },
    "kernelspec": {
      "name": "python3",
      "display_name": "Python 3"
    }
  },
  "cells": [
    {
      "cell_type": "markdown",
      "metadata": {
        "id": "view-in-github",
        "colab_type": "text"
      },
      "source": [
        "<a href=\"https://colab.research.google.com/github/zahragolpa/terrain-visibility/blob/main/final_project.ipynb\" target=\"_parent\"><img src=\"https://colab.research.google.com/assets/colab-badge.svg\" alt=\"Open In Colab\"/></a>"
      ]
    },
    {
      "cell_type": "code",
      "metadata": {
        "id": "QK0vlSAcE77F"
      },
      "source": [
        "import shapely.geometry\n",
        "import matplotlib.pyplot as plt\n",
        "import numpy as np"
      ],
      "execution_count": 1,
      "outputs": []
    },
    {
      "cell_type": "code",
      "metadata": {
        "colab": {
          "base_uri": "https://localhost:8080/"
        },
        "id": "dsIHZE2XXpi1",
        "outputId": "74b07248-34be-4fb5-a914-7a6d97adf66b"
      },
      "source": [
        "!pip install sympy"
      ],
      "execution_count": 2,
      "outputs": [
        {
          "output_type": "stream",
          "name": "stdout",
          "text": [
            "Requirement already satisfied: sympy in /usr/local/lib/python3.10/dist-packages (1.13.0)\n",
            "Requirement already satisfied: mpmath<1.4,>=1.1.0 in /usr/local/lib/python3.10/dist-packages (from sympy) (1.3.0)\n"
          ]
        }
      ]
    },
    {
      "cell_type": "code",
      "metadata": {
        "id": "Y2rkhBTGUm9P"
      },
      "source": [
        "class Terrain:\n",
        "  def __init__(self, vertices, viewpoints):\n",
        "\n",
        "    # list of vertices of type Point\n",
        "    self.vertices = sorted(vertices, key=lambda vertices: vertices.x)\n",
        "    # list of viewpoints of type Point\n",
        "    self.viewpoints = sorted(viewpoints, key=lambda viewpoints: viewpoints.x)\n",
        "    # list of vertices of type float\n",
        "    self.vertices_coords = []\n",
        "    # list of viewpoints of type float\n",
        "    self.viewpoints_coords = []\n",
        "    # merged list of viewpoints and vertices\n",
        "    self.viewpoints_and_vertices_coords = []\n",
        "    # list of edges\n",
        "    self.edges = []\n",
        "    self.visibles = []\n",
        "    self.l = []\n",
        "    self.l_prime= []\n",
        "    self.pa = None\n",
        "    self.pb = None\n",
        "    self.rb = None\n",
        "\n",
        "    self.initialize_vertices_coords()\n",
        "    self.initialize_viewpoints_coords()\n",
        "    self.initialize_edges()\n",
        "    self.initialize_viewpoints_and_vertices_coords()\n",
        "\n",
        "\n",
        "  def initialize_vertices_coords(self):\n",
        "    for vertex in self.vertices:\n",
        "      self.vertices_coords.append((vertex.x, vertex.y))\n",
        "      # self.vertices_visibility.append(False)\n",
        "\n",
        "  def initialize_viewpoints_coords(self):\n",
        "    for viewpoint in self.viewpoints:\n",
        "      self.viewpoints_coords.append((viewpoint.x, viewpoint.y))\n",
        "\n",
        "  def initialize_edges(self):\n",
        "    for i in range(len(self.vertices_coords) - 1):\n",
        "      self.edges.append(shapely.geometry.linestring.LineString([(self.vertices_coords[i][0], self.vertices_coords[i][1]), (self.vertices_coords[i + 1][0], self.vertices_coords[i + 1][1])]))\n",
        "      # self.edges_visibility.append(False)\n",
        "\n",
        "  def initialize_viewpoints_and_vertices_coords(self):\n",
        "    self.viewpoints_and_vertices_coords = list(dict.fromkeys(sorted(self.viewpoints_coords + self.vertices_coords)))"
      ],
      "execution_count": 3,
      "outputs": []
    },
    {
      "cell_type": "code",
      "metadata": {
        "id": "cesgWFDL97Cy"
      },
      "source": [
        "class MyPoint:\n",
        "  def __init__(self, x, y, viewpoint=False, visible=False):\n",
        "    self.x = x\n",
        "    self.y = y\n",
        "    self.viewpoint = viewpoint\n",
        "    self.visible = visible"
      ],
      "execution_count": 4,
      "outputs": []
    },
    {
      "cell_type": "code",
      "metadata": {
        "id": "reY_VGzbUrAp"
      },
      "source": [
        "def get_vertices_and_viewpoints_from_input():\n",
        "  vertices = []\n",
        "  viewpoints = []\n",
        "  # get terrain vertices and terrain viewpoints from input\n",
        "  print(\"Please enter the x- and y-coordinates of all terrain vertices, including the viewpoints. Enter q after the last point.\\nexample: 2,3\\n\")\n",
        "  while(True):\n",
        "    inp = input()\n",
        "    if inp == 'q':\n",
        "      break\n",
        "    try:\n",
        "      vertices.append(shapely.geometry.point.Point(float(inp.split(',')[0]), float(inp.split(',')[1])))\n",
        "      # vertices.append(MyPoint(float(inp.split(',')[0]), float(inp.split(',')[1])))\n",
        "    except:\n",
        "      print(\"Please use the correct format and try again.\")\n",
        "\n",
        "  print(\"\\nPlease enter the x- and y-coordinates of the viewpoints. Enter q after the last point.\\n\")\n",
        "  while(True):\n",
        "    inp = input()\n",
        "    if inp == 'q':\n",
        "      break\n",
        "    try:\n",
        "      viewpoints.append(shapely.geometry.point.Point(float(inp.split(',')[0]), float(inp.split(',')[1])))\n",
        "      # viewpoints.append(MyPoint(float(inp.split(',')[0]), float(inp.split(',')[1])))\n",
        "    except:\n",
        "      print(\"Please use the correct format and try again.\")\n",
        "  return vertices, viewpoints"
      ],
      "execution_count": 5,
      "outputs": []
    },
    {
      "cell_type": "code",
      "metadata": {
        "id": "TEjsnQn_Uhwy"
      },
      "source": [
        "# get vertices and viewpoints from input. Alternatively, you can manually assign numbers to vertices and viewpoints in Points format\n",
        "# vertices, viewpoints = get_vertices_and_viewpoints_from_input()\n",
        "vertices = [shapely.geometry.point.Point(1,5), shapely.geometry.point.Point(2,3), shapely.geometry.point.Point(3,4.5), shapely.geometry.point.Point(4,1),\n",
        "            shapely.geometry.point.Point(5,2), shapely.geometry.point.Point(7,1), shapely.geometry.point.Point(8,3),\n",
        "            shapely.geometry.point.Point(10,1), shapely.geometry.point.Point(11,2), shapely.geometry.point.Point(13,2.5),\n",
        "            shapely.geometry.point.Point(15,2), shapely.geometry.point.Point(18,3.5), shapely.geometry.point.Point(19,3), shapely.geometry.point.Point(20,5)]\n",
        "viewpoints = [shapely.geometry.point.Point(1,5), shapely.geometry.point.Point(5,2)]\n",
        "\n",
        "# call initialize terrain and store the terrain in variable 'terrain'\n",
        "terrain = Terrain(vertices, viewpoints)"
      ],
      "execution_count": 6,
      "outputs": []
    },
    {
      "cell_type": "code",
      "metadata": {
        "id": "v_1eL0iqJTa6"
      },
      "source": [
        "# a function to draw the terrain\n",
        "def draw_terrain(terrain):\n",
        "  min_x = min(terrain.vertices_coords, key=lambda x: x[0])[0]\n",
        "  max_x = max(terrain.vertices_coords, key=lambda x: x[0])[0]\n",
        "  min_y = min(terrain.vertices_coords, key=lambda x: x[1])[1]\n",
        "  if not (min_x - 1, min_y - 1) in terrain.vertices_coords:\n",
        "    terrain.vertices_coords.insert(0, (min_x - 1, min_y - 1))\n",
        "  if not (max_x + 1, min_y - 1) in terrain.vertices_coords:\n",
        "    terrain.vertices_coords.append((max_x + 1, min_y - 1))\n",
        "  polygon = shapely.geometry.Polygon(terrain.vertices_coords)\n",
        "  # fig = plt.figure()\n",
        "  plt.plot(*polygon.exterior.xy)\n",
        "  for viewpoint in terrain.viewpoints_coords:\n",
        "    plt.plot(viewpoint[0],viewpoint[1],'ro')"
      ],
      "execution_count": 7,
      "outputs": []
    },
    {
      "cell_type": "code",
      "metadata": {
        "colab": {
          "base_uri": "https://localhost:8080/",
          "height": 430
        },
        "id": "3pZ1tV8DUdn2",
        "outputId": "9039728f-71a2-4b91-d66d-01f92eef9df2"
      },
      "source": [
        "draw_terrain(terrain)"
      ],
      "execution_count": 8,
      "outputs": [
        {
          "output_type": "display_data",
          "data": {
            "text/plain": [
              "<Figure size 640x480 with 1 Axes>"
            ],
            "image/png": "[encoded data removed]"
          },
          "metadata": {}
        }
      ]
    },
    {
      "cell_type": "code",
      "metadata": {
        "id": "xW04gMQM3Voe"
      },
      "source": [
        "def get_next_point_on_linestring(viewpoint, vertex, wanted_x = 1):\n",
        "  m = (vertex[1] - viewpoint[1]) / (vertex[0] - viewpoint[0])\n",
        "  b = -m * vertex[0] + vertex[1]\n",
        "  x = vertex[0] + wanted_x\n",
        "  y = m * x + b\n",
        "  return (x, y)"
      ],
      "execution_count": 9,
      "outputs": []
    },
    {
      "cell_type": "code",
      "metadata": {
        "id": "7z8DtdKs0SJZ"
      },
      "source": [
        "def isVisibleRightAfter(vertex, viewpoint):\n",
        "  #print(\"vertex\", vertex)\n",
        "  #print(\"viewpoint\", viewpoint)\n",
        "  # question, TODO\n",
        "  if vertex == viewpoint:\n",
        "    return True\n",
        "  vertex_index = terrain.vertices_coords.index(vertex) - 1\n",
        "  #print(\"vertex index\", vertex_index)\n",
        "  viewpoint_index = terrain.vertices_coords.index(viewpoint) - 1\n",
        "  #print(\"viewpoint_index\", viewpoint_index)\n",
        "  if vertex_index == viewpoint_index + 1:\n",
        "    return True\n",
        "  prev_edge = terrain.edges[vertex_index - 1]\n",
        "  try:\n",
        "    next_edge = terrain.edges[vertex_index]\n",
        "  except:\n",
        "    return\n",
        "  ray = shapely.geometry.linestring.LineString([viewpoint, vertex])\n",
        "  temp_triangle = shapely.geometry.polygon.Polygon([prev_edge.coords[0], vertex, next_edge.coords[1]])\n",
        "  (x, y) = get_next_point_on_linestring(viewpoint, vertex)\n",
        "  if temp_triangle.intersects(shapely.geometry.point.Point((x, y))):\n",
        "    return True\n",
        "  return False"
      ],
      "execution_count": 10,
      "outputs": []
    },
    {
      "cell_type": "code",
      "metadata": {
        "colab": {
          "base_uri": "https://localhost:8080/"
        },
        "id": "MmErhLSffpN2",
        "outputId": "5b452434-0ea8-4598-c846-ea76a83d584c"
      },
      "source": [
        "print(terrain.viewpoints_and_vertices_coords)"
      ],
      "execution_count": 11,
      "outputs": [
        {
          "output_type": "stream",
          "name": "stdout",
          "text": [
            "[(1.0, 5.0), (2.0, 3.0), (3.0, 4.5), (4.0, 1.0), (5.0, 2.0), (7.0, 1.0), (8.0, 3.0), (10.0, 1.0), (11.0, 2.0), (13.0, 2.5), (15.0, 2.0), (18.0, 3.5), (19.0, 3.0), (20.0, 5.0)]\n"
          ]
        }
      ]
    },
    {
      "cell_type": "code",
      "metadata": {
        "id": "xwtWQrWbXoFO"
      },
      "source": [
        "def get_left_intersection(ray_list, edge):\n",
        "\n",
        "  right_most_x_in_terrain = terrain.vertices_coords[-1][0]\n",
        "  ray_list_extended = []\n",
        "  # print(ray_list)\n",
        "  for ray in ray_list:\n",
        "    # print(ray)\n",
        "    (x, y) = get_next_point_on_linestring((ray.coords[0][0], ray.coords[0][1]), (ray.coords[1][0], ray.coords[1][1]), right_most_x_in_terrain)\n",
        "    temp = shapely.geometry.linestring.LineString([(ray.coords[0][0], ray.coords[0][1]), (x, y)])\n",
        "    ray_list_extended.append(temp)\n",
        "\n",
        "  intersections_with_edge = []\n",
        "  for l in ray_list_extended:\n",
        "    if edge.intersects(l):\n",
        "      intersections_with_edge.append(edge.intersection(l))\n",
        "  if intersections_with_edge:\n",
        "    min_x = intersections_with_edge[0].x\n",
        "    min_y = intersections_with_edge[0].y\n",
        "    for i in intersections_with_edge:\n",
        "      if i.x < min_x:\n",
        "        min_x = i.x\n",
        "        min_y = i.y\n",
        "    # print(min_y)\n",
        "    if (min_x, min_y) != edge.coords[0] and (min_x, min_y) != edge.coords[1]:\n",
        "      return (min_x, min_y)\n",
        "  return None"
      ],
      "execution_count": 12,
      "outputs": []
    },
    {
      "cell_type": "code",
      "metadata": {
        "id": "zoInMvqS4YqC"
      },
      "source": [
        "def edgeProcessing(vertex_1, vertex_2):\n",
        "\n",
        "    vertex_1_index = terrain.vertices_coords.index(vertex_1)\n",
        "    try:\n",
        "      edge = terrain.edges[vertex_1_index - 1]\n",
        "    except:\n",
        "      return\n",
        "\n",
        "    if edge not in terrain.visibles:\n",
        "      if terrain.l:\n",
        "        left_most_intersection = get_left_intersection(terrain.l, edge)\n",
        "        if left_most_intersection:\n",
        "          temp = shapely.geometry.linestring.LineString([(left_most_intersection[0], left_most_intersection[1]), (edge.coords[1][0], edge.coords[1][1])])\n",
        "          if not temp in terrain.visibles:\n",
        "            terrain.visibles.append(temp)\n",
        "          if not shapely.geometry.point.Point(temp.coords[0]) in terrain.visibles:\n",
        "            terrain.visibles.append(shapely.geometry.point.Point(temp.coords[0]))\n",
        "          if not shapely.geometry.point.Point(temp.coords[1]) in terrain.visibles:\n",
        "            terrain.visibles.append(shapely.geometry.point.Point(temp.coords[1]))\n",
        "\n",
        "          for ray in terrain.l:\n",
        "            if ray.intersects(shapely.geometry.point.Point(left_most_intersection[0], left_most_intersection[1])):\n",
        "              terrain.rb = ray\n",
        "              terrain.l.remove(terrain.rb)\n",
        "              break\n",
        "\n",
        "              terrain.pb = terrain.rb.coords[0]\n",
        "              terrain.pa = terrain.pb\n",
        "              terrain.pb = None\n",
        "\n",
        "\n",
        "    if edge in terrain.visibles:\n",
        "      if terrain.l:\n",
        "        left_most_intersection = get_left_intersection(terrain.l, edge)\n",
        "        if left_most_intersection:\n",
        "          for ray in terrain.l:\n",
        "\n",
        "            if ray.intersects(shapely.geometry.point.Point(left_most_intersection[0], left_most_intersection[1])):\n",
        "              terrain.rb = ray\n",
        "              terrain.l.remove(terrain.rb)\n",
        "              break\n",
        "          terrain.pb = terrain.rb.coords[0]\n",
        "          if terrain.pb[0] < terrain.pa[0]:\n",
        "            terrain.pa = terrain.pb"
      ],
      "execution_count": 13,
      "outputs": []
    },
    {
      "cell_type": "code",
      "metadata": {
        "id": "LBifT84Cdkvg"
      },
      "source": [
        "def vertexProcessing(v):\n",
        "\n",
        "  temp = shapely.geometry.point.Point(v)\n",
        "  if temp in terrain.visibles:\n",
        "    if not isVisibleRightAfter(v, terrain.pa):\n",
        "      terrain.visibles.remove(temp)\n",
        "      newShadowRay = shapely.geometry.linestring.LineString([terrain.pa, v])\n",
        "      terrain.l.append(newShadowRay)\n",
        "      terrain.pb = terrain.pa\n",
        "    else:\n",
        "      v_index = terrain.vertices_coords.index(v)\n",
        "      next_point = terrain.vertices_coords[v_index + 1]\n",
        "      temp = shapely.geometry.linestring.LineString([(v[0], v[1]), (next_point[0], next_point[1])])\n",
        "      if not temp in terrain.visibles:\n",
        "        terrain.visibles.append(temp)\n",
        "      if not shapely.geometry.point.Point(temp.coords[0]) in terrain.visibles:\n",
        "        terrain.visibles.append(shapely.geometry.point.Point(temp.coords[0]))\n",
        "      if not shapely.geometry.point.Point(temp.coords[1]) in terrain.visibles:\n",
        "        terrain.visibles.append(shapely.geometry.point.Point(temp.coords[1]))\n",
        "\n",
        "\n",
        "vertexProcessing((3, 4.5))\n",
        "\n",
        "\n",
        "def viewpointProcessing(v):\n",
        "  ind = terrain.vertices_coords.index(v)\n",
        "  edge = terrain.edges[ind - 1]\n",
        "  terrain.visibles.append(edge)\n",
        "  if not shapely.geometry.point.Point(edge.coords[1]) in terrain.visibles:\n",
        "    terrain.visibles.append(shapely.geometry.point.Point(edge.coords[1]))\n",
        "  temp = shapely.geometry.point.Point(v)\n",
        "  if not temp in terrain.visibles:\n",
        "    terrain.visibles.append(temp)\n",
        "    terrain.pa = v\n",
        "    if terrain.l:\n",
        "      terrain.l_prime = terrain.l_prime + terrain.l\n",
        "  else:\n",
        "    if not isVisibleRightAfter(v, terrain.pa):\n",
        "      newShadowRay = shapely.geometry.linestring.LineString([terrain.pa, v])\n",
        "      terrain.l_prime.append(newShadowRay)\n",
        "      terrain.pa = v"
      ],
      "execution_count": 14,
      "outputs": []
    },
    {
      "cell_type": "code",
      "metadata": {
        "id": "HkQrUviTd8Sm"
      },
      "source": [
        "for point in terrain.viewpoints_and_vertices_coords:\n",
        "  if point in terrain.viewpoints_coords:\n",
        "    viewpointProcessing(point)\n",
        "  else:\n",
        "    vertexProcessing(point)\n",
        "  index = terrain.vertices_coords.index(point)\n",
        "  # check if there is a next vertex in the terrain and then process the edge\n",
        "  if index + 1 < len(terrain.vertices_coords):\n",
        "    nextVertex = terrain.vertices_coords[index + 1]\n",
        "    edgeProcessing(point, nextVertex)"
      ],
      "execution_count": 16,
      "outputs": []
    },
    {
      "cell_type": "code",
      "metadata": {
        "colab": {
          "base_uri": "https://localhost:8080/",
          "height": 430
        },
        "id": "pSyA9zIfcYDm",
        "outputId": "e2d72d82-9006-4a70-8414-695a730a055b"
      },
      "source": [
        "def draw_visibles(terrain):\n",
        "  polygon = shapely.geometry.Polygon(terrain.vertices_coords)\n",
        "  fig = plt.figure()\n",
        "  plt.plot(*polygon.exterior.xy)\n",
        "  for viewpoint in terrain.viewpoints_coords:\n",
        "    plt.plot(viewpoint[0],viewpoint[1] - 0.1,'ro')\n",
        "  ax = fig.add_subplot(111)\n",
        "  for vis in terrain.visibles:\n",
        "    if isinstance(vis, shapely.geometry.point.Point):\n",
        "      plt.plot(vis.x,vis.y,'go')\n",
        "    if isinstance(vis, shapely.geometry.linestring.LineString):\n",
        "      # Convert the LineString coordinates to a NumPy array and transpose for plotting\n",
        "      ax.plot(*np.array(vis.coords).T, color='green', linewidth=3, solid_capstyle='round')\n",
        "draw_visibles(terrain)"
      ],
      "execution_count": 17,
      "outputs": [
        {
          "output_type": "display_data",
          "data": {
            "text/plain": [
              "<Figure size 640x480 with 2 Axes>"
            ],
            "image/png": "[encoded data removed]"
          },
          "metadata": {}
        }
      ]
    }
  ]
}
